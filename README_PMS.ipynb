{
 "cells": [
  {
   "cell_type": "markdown",
   "id": "789bdd97",
   "metadata": {},
   "source": [
    "# Project: Policy Management System\n",
    "\n",
    "## Table of Contents\n",
    "* 1. Project Description\n",
    "* 2. Project Files\n",
    "* 3. Features\n",
    "* 4. Usage Instructions\n",
    "* 5. Sample Output\n",
    "* 6. Requirements\n",
    "* 7. Prerequisite\n",
    "\n",
    "## 1. Project Description\n",
    "This project is a policy management system for an insurance company, designed to manage policyholders, products, and payments. The system allows policy managers to add, suspend, and reactivate policyholders, manage product lifecycles, and process payments efficiently.\n",
    "\n",
    "## 2. Project Files\n",
    "1. `policyholder.py` - Handles policyholder management.\n",
    "2. `product.py` - Manages policy product details and lifecycle.\n",
    "3. `payment.py` - Processes and records payments.\n",
    "4. `main.py` - Demonstrates the functionality of the system.\n",
    "5. `README.md` - Documentation.\n",
    "\n",
    "## 3. Features\n",
    "1. **Policyholder Management**: \n",
    "   - Add, suspend, and reactivate policyholders.\n",
    "2. **Product Management**: \n",
    "   - Create, update, and suspend policy products.\n",
    "3. **Payment Management**: \n",
    "   - Process payments and retrieve payment records.\n",
    "4. **Error Handling**: \n",
    "   - Handles exceptions gracefully to ensure the program runs smoothly.\n",
    "5. **Demonstration**: \n",
    "   - Sample policyholders and products with processed payments.\n",
    "\n",
    "## 4. Usage Instructions\n",
    "1. Clone the repository to your local machine.\n",
    "2. Ensure Python 3.x is installed.\n",
    "3. Run `main.py` to execute the demonstration.\n",
    "\n",
    "## 5. Sample Output\n",
    "\n",
    "===============================================================================================================================\n",
    "* Policyholder 1 Details: {'Policy ID': 101, 'Name': 'Toye Olalekan', 'Email': 'toye_olalekan@gmail.com', 'Active': True}\n",
    "* Product 1 Details: {'Product ID': 1, 'Name': 'Health Insurance', 'Description': 'Comprehensive health coverage', 'Price': 500, 'Active': True}\n",
    "* Payment 1 Details: {'Payment ID': 201, 'Policy ID': 101, 'Product ID': 1, 'Amount': 500, 'Processed': True}\n",
    "\n",
    "================================================================================================================================\n",
    "\n",
    "## 6. Requirements\n",
    "No external libraries are required.\n",
    "\n",
    "## 7. Prerequisite\n",
    "1. Python 3.x installed\n",
    "2. Basic understanding of object-oriented programming (OOP)"
   ]
  },
  {
   "cell_type": "code",
   "execution_count": null,
   "id": "981b278d",
   "metadata": {},
   "outputs": [],
   "source": []
  }
 ],
 "metadata": {
  "kernelspec": {
   "display_name": "Python 3 (ipykernel)",
   "language": "python",
   "name": "python3"
  },
  "language_info": {
   "codemirror_mode": {
    "name": "ipython",
    "version": 3
   },
   "file_extension": ".py",
   "mimetype": "text/x-python",
   "name": "python",
   "nbconvert_exporter": "python",
   "pygments_lexer": "ipython3",
   "version": "3.11.4"
  }
 },
 "nbformat": 4,
 "nbformat_minor": 5
}
